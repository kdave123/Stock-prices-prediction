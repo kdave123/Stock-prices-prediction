{
 "cells": [
  {
   "cell_type": "markdown",
   "metadata": {},
   "source": [
    "### Import libraries, Load dataset"
   ]
  },
  {
   "cell_type": "code",
   "execution_count": 1,
   "metadata": {},
   "outputs": [],
   "source": [
    "import numpy as np\n",
    "import pandas as pd\n",
    "import matplotlib.pyplot as plt\n",
    "from keras.models import Sequential\n",
    "from keras.layers import LSTM, Dense, Dropout, GRU, Bidirectional,SimpleRNN\n",
    "from keras.optimizers import Adam, RMSprop\n",
    "\n",
    "from sklearn.metrics import mean_absolute_error, mean_squared_error\n",
    "from keras.optimizers import SGD\n"
   ]
  },
  {
   "cell_type": "code",
   "execution_count": 2,
   "metadata": {},
   "outputs": [],
   "source": [
    "S_AND_P_500_INDEX = pd.read_csv('all_stocks_5yr.csv')\n"
   ]
  },
  {
   "cell_type": "code",
   "execution_count": 3,
   "metadata": {},
   "outputs": [
    {
     "data": {
      "text/html": [
       "<div>\n",
       "<style scoped>\n",
       "    .dataframe tbody tr th:only-of-type {\n",
       "        vertical-align: middle;\n",
       "    }\n",
       "\n",
       "    .dataframe tbody tr th {\n",
       "        vertical-align: top;\n",
       "    }\n",
       "\n",
       "    .dataframe thead th {\n",
       "        text-align: right;\n",
       "    }\n",
       "</style>\n",
       "<table border=\"1\" class=\"dataframe\">\n",
       "  <thead>\n",
       "    <tr style=\"text-align: right;\">\n",
       "      <th></th>\n",
       "      <th>date</th>\n",
       "      <th>open</th>\n",
       "      <th>high</th>\n",
       "      <th>low</th>\n",
       "      <th>close</th>\n",
       "      <th>volume</th>\n",
       "      <th>Name</th>\n",
       "    </tr>\n",
       "  </thead>\n",
       "  <tbody>\n",
       "    <tr>\n",
       "      <th>0</th>\n",
       "      <td>2013-02-08</td>\n",
       "      <td>15.07</td>\n",
       "      <td>15.12</td>\n",
       "      <td>14.63</td>\n",
       "      <td>14.75</td>\n",
       "      <td>8407500</td>\n",
       "      <td>AAL</td>\n",
       "    </tr>\n",
       "    <tr>\n",
       "      <th>1</th>\n",
       "      <td>2013-02-11</td>\n",
       "      <td>14.89</td>\n",
       "      <td>15.01</td>\n",
       "      <td>14.26</td>\n",
       "      <td>14.46</td>\n",
       "      <td>8882000</td>\n",
       "      <td>AAL</td>\n",
       "    </tr>\n",
       "    <tr>\n",
       "      <th>2</th>\n",
       "      <td>2013-02-12</td>\n",
       "      <td>14.45</td>\n",
       "      <td>14.51</td>\n",
       "      <td>14.10</td>\n",
       "      <td>14.27</td>\n",
       "      <td>8126000</td>\n",
       "      <td>AAL</td>\n",
       "    </tr>\n",
       "    <tr>\n",
       "      <th>3</th>\n",
       "      <td>2013-02-13</td>\n",
       "      <td>14.30</td>\n",
       "      <td>14.94</td>\n",
       "      <td>14.25</td>\n",
       "      <td>14.66</td>\n",
       "      <td>10259500</td>\n",
       "      <td>AAL</td>\n",
       "    </tr>\n",
       "    <tr>\n",
       "      <th>4</th>\n",
       "      <td>2013-02-14</td>\n",
       "      <td>14.94</td>\n",
       "      <td>14.96</td>\n",
       "      <td>13.16</td>\n",
       "      <td>13.99</td>\n",
       "      <td>31879900</td>\n",
       "      <td>AAL</td>\n",
       "    </tr>\n",
       "    <tr>\n",
       "      <th>5</th>\n",
       "      <td>2013-02-15</td>\n",
       "      <td>13.93</td>\n",
       "      <td>14.61</td>\n",
       "      <td>13.93</td>\n",
       "      <td>14.50</td>\n",
       "      <td>15628000</td>\n",
       "      <td>AAL</td>\n",
       "    </tr>\n",
       "    <tr>\n",
       "      <th>6</th>\n",
       "      <td>2013-02-19</td>\n",
       "      <td>14.33</td>\n",
       "      <td>14.56</td>\n",
       "      <td>14.08</td>\n",
       "      <td>14.26</td>\n",
       "      <td>11354400</td>\n",
       "      <td>AAL</td>\n",
       "    </tr>\n",
       "    <tr>\n",
       "      <th>7</th>\n",
       "      <td>2013-02-20</td>\n",
       "      <td>14.17</td>\n",
       "      <td>14.26</td>\n",
       "      <td>13.15</td>\n",
       "      <td>13.33</td>\n",
       "      <td>14725200</td>\n",
       "      <td>AAL</td>\n",
       "    </tr>\n",
       "    <tr>\n",
       "      <th>8</th>\n",
       "      <td>2013-02-21</td>\n",
       "      <td>13.62</td>\n",
       "      <td>13.95</td>\n",
       "      <td>12.90</td>\n",
       "      <td>13.37</td>\n",
       "      <td>11922100</td>\n",
       "      <td>AAL</td>\n",
       "    </tr>\n",
       "    <tr>\n",
       "      <th>9</th>\n",
       "      <td>2013-02-22</td>\n",
       "      <td>13.57</td>\n",
       "      <td>13.60</td>\n",
       "      <td>13.21</td>\n",
       "      <td>13.57</td>\n",
       "      <td>6071400</td>\n",
       "      <td>AAL</td>\n",
       "    </tr>\n",
       "  </tbody>\n",
       "</table>\n",
       "</div>"
      ],
      "text/plain": [
       "         date   open   high    low  close    volume Name\n",
       "0  2013-02-08  15.07  15.12  14.63  14.75   8407500  AAL\n",
       "1  2013-02-11  14.89  15.01  14.26  14.46   8882000  AAL\n",
       "2  2013-02-12  14.45  14.51  14.10  14.27   8126000  AAL\n",
       "3  2013-02-13  14.30  14.94  14.25  14.66  10259500  AAL\n",
       "4  2013-02-14  14.94  14.96  13.16  13.99  31879900  AAL\n",
       "5  2013-02-15  13.93  14.61  13.93  14.50  15628000  AAL\n",
       "6  2013-02-19  14.33  14.56  14.08  14.26  11354400  AAL\n",
       "7  2013-02-20  14.17  14.26  13.15  13.33  14725200  AAL\n",
       "8  2013-02-21  13.62  13.95  12.90  13.37  11922100  AAL\n",
       "9  2013-02-22  13.57  13.60  13.21  13.57   6071400  AAL"
      ]
     },
     "execution_count": 3,
     "metadata": {},
     "output_type": "execute_result"
    }
   ],
   "source": [
    "S_AND_P_500_INDEX.head(10)\n"
   ]
  },
  {
   "cell_type": "code",
   "execution_count": 4,
   "metadata": {},
   "outputs": [
    {
     "name": "stdout",
     "output_type": "stream",
     "text": [
      "<class 'pandas.core.frame.DataFrame'>\n",
      "RangeIndex: 619040 entries, 0 to 619039\n",
      "Data columns (total 7 columns):\n",
      " #   Column  Non-Null Count   Dtype  \n",
      "---  ------  --------------   -----  \n",
      " 0   date    619040 non-null  object \n",
      " 1   open    619029 non-null  float64\n",
      " 2   high    619032 non-null  float64\n",
      " 3   low     619032 non-null  float64\n",
      " 4   close   619040 non-null  float64\n",
      " 5   volume  619040 non-null  int64  \n",
      " 6   Name    619040 non-null  object \n",
      "dtypes: float64(4), int64(1), object(2)\n",
      "memory usage: 33.1+ MB\n"
     ]
    }
   ],
   "source": [
    "S_AND_P_500_INDEX.info()\n"
   ]
  },
  {
   "cell_type": "code",
   "execution_count": 5,
   "metadata": {},
   "outputs": [
    {
     "data": {
      "text/plain": [
       "array(['AAL', 'AAPL', 'AAP', 'ABBV', 'ABC', 'ABT', 'ACN', 'ADBE', 'ADI',\n",
       "       'ADM', 'ADP', 'ADSK', 'ADS', 'AEE', 'AEP', 'AES', 'AET', 'AFL',\n",
       "       'AGN', 'AIG', 'AIV', 'AIZ', 'AJG', 'AKAM', 'ALB', 'ALGN', 'ALK',\n",
       "       'ALLE', 'ALL', 'ALXN', 'AMAT', 'AMD', 'AME', 'AMGN', 'AMG', 'AMP',\n",
       "       'AMT', 'AMZN', 'ANDV', 'ANSS', 'ANTM', 'AON', 'AOS', 'APA', 'APC',\n",
       "       'APD', 'APH', 'APTV', 'ARE', 'ARNC', 'ATVI', 'AVB', 'AVGO', 'AVY',\n",
       "       'AWK', 'AXP', 'AYI', 'AZO', 'A', 'BAC', 'BAX', 'BA', 'BBT', 'BBY',\n",
       "       'BDX', 'BEN', 'BF.B', 'BHF', 'BHGE', 'BIIB', 'BK', 'BLK', 'BLL',\n",
       "       'BMY', 'BRK.B', 'BSX', 'BWA', 'BXP', 'CAG', 'CAH', 'CAT', 'CA',\n",
       "       'CBG', 'CBOE', 'CBS', 'CB', 'CCI', 'CCL', 'CDNS', 'CELG', 'CERN',\n",
       "       'CFG', 'CF', 'CHD', 'CHK', 'CHRW', 'CHTR', 'CINF', 'CI', 'CLX',\n",
       "       'CL', 'CMA', 'CMCSA', 'CME', 'CMG', 'CMI', 'CMS', 'CNC', 'CNP',\n",
       "       'COF', 'COG', 'COL', 'COO', 'COP', 'COST', 'COTY', 'CPB', 'CRM',\n",
       "       'CSCO', 'CSRA', 'CSX', 'CTAS', 'CTL', 'CTSH', 'CTXS', 'CVS', 'CVX',\n",
       "       'CXO', 'C', 'DAL', 'DE', 'DFS', 'DGX', 'DG', 'DHI', 'DHR', 'DISCA',\n",
       "       'DISCK', 'DISH', 'DIS', 'DLR', 'DLTR', 'DOV', 'DPS', 'DRE', 'DRI',\n",
       "       'DTE', 'DUK', 'DVA', 'DVN', 'DWDP', 'DXC', 'D', 'EA', 'EBAY',\n",
       "       'ECL', 'ED', 'EFX', 'EIX', 'EL', 'EMN', 'EMR', 'EOG', 'EQIX',\n",
       "       'EQR', 'EQT', 'ESRX', 'ESS', 'ES', 'ETFC', 'ETN', 'ETR', 'EVHC',\n",
       "       'EW', 'EXC', 'EXPD', 'EXPE', 'EXR', 'FAST', 'FBHS', 'FB', 'FCX',\n",
       "       'FDX', 'FE', 'FFIV', 'FISV', 'FIS', 'FITB', 'FLIR', 'FLR', 'FLS',\n",
       "       'FL', 'FMC', 'FOXA', 'FOX', 'FRT', 'FTI', 'FTV', 'F', 'GD', 'GE',\n",
       "       'GGP', 'GILD', 'GIS', 'GLW', 'GM', 'GOOGL', 'GOOG', 'GPC', 'GPN',\n",
       "       'GPS', 'GRMN', 'GS', 'GT', 'GWW', 'HAL', 'HAS', 'HBAN', 'HBI',\n",
       "       'HCA', 'HCN', 'HCP', 'HD', 'HES', 'HIG', 'HII', 'HLT', 'HOG',\n",
       "       'HOLX', 'HON', 'HPE', 'HPQ', 'HP', 'HRB', 'HRL', 'HRS', 'HSIC',\n",
       "       'HST', 'HSY', 'HUM', 'IBM', 'ICE', 'IDXX', 'IFF', 'ILMN', 'INCY',\n",
       "       'INFO', 'INTC', 'INTU', 'IPG', 'IP', 'IQV', 'IRM', 'IR', 'ISRG',\n",
       "       'ITW', 'IT', 'IVZ', 'JBHT', 'JCI', 'JEC', 'JNJ', 'JNPR', 'JPM',\n",
       "       'JWN', 'KEY', 'KHC', 'KIM', 'KLAC', 'KMB', 'KMI', 'KMX', 'KORS',\n",
       "       'KO', 'KR', 'KSS', 'KSU', 'K', 'LB', 'LEG', 'LEN', 'LH', 'LKQ',\n",
       "       'LLL', 'LLY', 'LMT', 'LNC', 'LNT', 'LOW', 'LRCX', 'LUK', 'LUV',\n",
       "       'LYB', 'L', 'MAA', 'MAC', 'MAR', 'MAS', 'MAT', 'MA', 'MCD', 'MCHP',\n",
       "       'MCK', 'MCO', 'MDLZ', 'MDT', 'MET', 'MGM', 'MHK', 'MKC', 'MLM',\n",
       "       'MMC', 'MMM', 'MNST', 'MON', 'MOS', 'MO', 'MPC', 'MRK', 'MRO',\n",
       "       'MSFT', 'MSI', 'MS', 'MTB', 'MTD', 'MU', 'MYL', 'M', 'NAVI', 'NBL',\n",
       "       'NCLH', 'NDAQ', 'NEE', 'NEM', 'NFLX', 'NFX', 'NI', 'NKE', 'NLSN',\n",
       "       'NOC', 'NOV', 'NRG', 'NSC', 'NTAP', 'NTRS', 'NUE', 'NVDA', 'NWL',\n",
       "       'NWSA', 'NWS', 'OKE', 'OMC', 'ORCL', 'ORLY', 'OXY', 'O', 'PAYX',\n",
       "       'PBCT', 'PCAR', 'PCG', 'PCLN', 'PDCO', 'PEG', 'PEP', 'PFE', 'PFG',\n",
       "       'PGR', 'PG', 'PHM', 'PH', 'PKG', 'PKI', 'PLD', 'PM', 'PNC', 'PNR',\n",
       "       'PNW', 'PPG', 'PPL', 'PRGO', 'PRU', 'PSA', 'PSX', 'PVH', 'PWR',\n",
       "       'PXD', 'PX', 'PYPL', 'QCOM', 'QRVO', 'RCL', 'REGN', 'REG', 'RE',\n",
       "       'RF', 'RHI', 'RHT', 'RJF', 'RL', 'RMD', 'ROK', 'ROP', 'ROST',\n",
       "       'RRC', 'RSG', 'RTN', 'SBAC', 'SBUX', 'SCG', 'SCHW', 'SEE', 'SHW',\n",
       "       'SIG', 'SJM', 'SLB', 'SLG', 'SNA', 'SNI', 'SNPS', 'SO', 'SPGI',\n",
       "       'SPG', 'SRCL', 'SRE', 'STI', 'STT', 'STX', 'STZ', 'SWKS', 'SWK',\n",
       "       'SYF', 'SYK', 'SYMC', 'SYY', 'TAP', 'TDG', 'TEL', 'TGT', 'TIF',\n",
       "       'TJX', 'TMK', 'TMO', 'TPR', 'TRIP', 'TROW', 'TRV', 'TSCO', 'TSN',\n",
       "       'TSS', 'TWX', 'TXN', 'TXT', 'T', 'UAA', 'UAL', 'UA', 'UDR', 'UHS',\n",
       "       'ULTA', 'UNH', 'UNM', 'UNP', 'UPS', 'URI', 'USB', 'UTX', 'VAR',\n",
       "       'VFC', 'VIAB', 'VLO', 'VMC', 'VNO', 'VRSK', 'VRSN', 'VRTX', 'VTR',\n",
       "       'VZ', 'V', 'WAT', 'WBA', 'WDC', 'WEC', 'WFC', 'WHR', 'WLTW', 'WMB',\n",
       "       'WMT', 'WM', 'WRK', 'WU', 'WYNN', 'WYN', 'WY', 'XEC', 'XEL',\n",
       "       'XLNX', 'XL', 'XOM', 'XRAY', 'XRX', 'XYL', 'YUM', 'ZBH', 'ZION',\n",
       "       'ZTS'], dtype=object)"
      ]
     },
     "execution_count": 5,
     "metadata": {},
     "output_type": "execute_result"
    }
   ],
   "source": [
    "stocks = S_AND_P_500_INDEX.Name.unique()\n",
    "stocks"
   ]
  },
  {
   "cell_type": "code",
   "execution_count": 6,
   "metadata": {},
   "outputs": [
    {
     "name": "stdout",
     "output_type": "stream",
     "text": [
      "<class 'pandas.core.frame.DataFrame'>\n",
      "Int64Index: 1259 entries, 390198 to 391456\n",
      "Data columns (total 7 columns):\n",
      " #   Column  Non-Null Count  Dtype  \n",
      "---  ------  --------------  -----  \n",
      " 0   date    1259 non-null   object \n",
      " 1   open    1259 non-null   float64\n",
      " 2   high    1259 non-null   float64\n",
      " 3   low     1259 non-null   float64\n",
      " 4   close   1259 non-null   float64\n",
      " 5   volume  1259 non-null   int64  \n",
      " 6   Name    1259 non-null   object \n",
      "dtypes: float64(4), int64(1), object(2)\n",
      "memory usage: 78.7+ KB\n"
     ]
    }
   ],
   "source": [
    "stock = S_AND_P_500_INDEX.loc[S_AND_P_500_INDEX['Name'] == 'MSFT']\n",
    "stock.info()"
   ]
  },
  {
   "cell_type": "code",
   "execution_count": 7,
   "metadata": {},
   "outputs": [
    {
     "data": {
      "text/plain": [
       "(1259, 1)"
      ]
     },
     "execution_count": 7,
     "metadata": {},
     "output_type": "execute_result"
    }
   ],
   "source": [
    "train_set = stock.iloc[:, 4:5].values\n",
    "train_set.shape"
   ]
  },
  {
   "cell_type": "code",
   "execution_count": 8,
   "metadata": {},
   "outputs": [
    {
     "data": {
      "text/plain": [
       "(1259, 1)"
      ]
     },
     "execution_count": 8,
     "metadata": {},
     "output_type": "execute_result"
    }
   ],
   "source": [
    "from sklearn.preprocessing import MinMaxScaler\n",
    "sc = MinMaxScaler()\n",
    "train_set_scaled = sc.fit_transform(train_set)\n",
    "train_set_scaled.shape\n",
    "\n"
   ]
  },
  {
   "cell_type": "markdown",
   "metadata": {},
   "source": [
    "### Train and Test Split"
   ]
  },
  {
   "cell_type": "code",
   "execution_count": 9,
   "metadata": {},
   "outputs": [
    {
     "name": "stdout",
     "output_type": "stream",
     "text": [
      "(959, 60) (959,)\n",
      "(240, 60) (240,)\n"
     ]
    }
   ],
   "source": [
    "# X - closing prices of last 60 days\n",
    "# y - closing price of present day\n",
    "\n",
    "x_train = []\n",
    "y_train = []\n",
    "timestamp = 60\n",
    "length = len(train_set)\n",
    "for i in range(timestamp, length):\n",
    "    x_train.append(train_set_scaled[i-timestamp:i, 0])\n",
    "    y_train.append(train_set_scaled[i, 0])\n",
    "    \n",
    "X = np.array(x_train)\n",
    "y = np.array(y_train)\n",
    "\n",
    "\n",
    "\n",
    "# Train set split\n",
    "cut = int(len(X)*0.8)\n",
    "\n",
    "X_train = X[:cut]\n",
    "X_test = X[cut:]\n",
    "y_train = y[:cut]\n",
    "y_test = y[cut:]\n",
    "\n",
    "print(X_train.shape, y_train.shape)\n",
    "print(X_test.shape, y_test.shape)"
   ]
  },
  {
   "cell_type": "code",
   "execution_count": 10,
   "metadata": {},
   "outputs": [
    {
     "name": "stdout",
     "output_type": "stream",
     "text": [
      "[0.49852158 0.48625074 0.47057954 0.47131875 0.48565937 0.48166765\n",
      " 0.50266115 0.49733885 0.51153164 0.51448847 0.52646363 0.52202839\n",
      " 0.52054997 0.51641041 0.53592549 0.53474276 0.53474276 0.5348906\n",
      " 0.53030751 0.53089888 0.52661147 0.5252809  0.51404494 0.52054997\n",
      " 0.51641041 0.51641041 0.52439385 0.52143702 0.52114134 0.5295683\n",
      " 0.52099349 0.52232407 0.51981076 0.51936724 0.51641041 0.52291543\n",
      " 0.52616795 0.53444707 0.53681254 0.54553519 0.56785925 0.55824956\n",
      " 0.55115316 0.53533412 0.52927262 0.53681254 0.53622117 0.5331165\n",
      " 0.53178593 0.54243051 0.54154347 0.55218805 0.54997043 0.54937907\n",
      " 0.54923122 0.55070964 0.5487877  0.54686576 0.55070964 0.55070964]\n",
      "\n",
      "\n",
      "(240, 60)\n",
      "\n",
      "\n",
      "0.5449438202247191\n",
      "\n",
      "\n",
      "(240,)\n"
     ]
    }
   ],
   "source": [
    "\n",
    "print (X_test[0])\n",
    "print ('\\n')\n",
    "print (X_test.shape)\n",
    "print ('\\n')\n",
    "print (y_test[0])\n",
    "print ('\\n')\n",
    "print (y_test.shape)\n"
   ]
  },
  {
   "cell_type": "code",
   "execution_count": 11,
   "metadata": {},
   "outputs": [
    {
     "data": {
      "text/plain": [
       "(959, 60, 1)"
      ]
     },
     "execution_count": 11,
     "metadata": {},
     "output_type": "execute_result"
    }
   ],
   "source": [
    "X_train = np.reshape(X_train, (X_train.shape[0], X_train.shape[1], 1))\n",
    "X_train.shape"
   ]
  },
  {
   "cell_type": "markdown",
   "metadata": {},
   "source": [
    "### Train and Test Simple RNN"
   ]
  },
  {
   "cell_type": "code",
   "execution_count": 12,
   "metadata": {},
   "outputs": [
    {
     "name": "stdout",
     "output_type": "stream",
     "text": [
      "Epoch 1/10\n",
      "15/15 [==============================] - 0s 21ms/step - loss: 0.0505\n",
      "Epoch 2/10\n",
      "15/15 [==============================] - 0s 21ms/step - loss: 0.0016\n",
      "Epoch 3/10\n",
      "15/15 [==============================] - 0s 17ms/step - loss: 8.9276e-04\n",
      "Epoch 4/10\n",
      "15/15 [==============================] - 0s 17ms/step - loss: 7.3346e-04\n",
      "Epoch 5/10\n",
      "15/15 [==============================] - 0s 17ms/step - loss: 6.8470e-04\n",
      "Epoch 6/10\n",
      "15/15 [==============================] - 0s 20ms/step - loss: 6.7525e-04\n",
      "Epoch 7/10\n",
      "15/15 [==============================] - 0s 18ms/step - loss: 6.2627e-04\n",
      "Epoch 8/10\n",
      "15/15 [==============================] - 0s 20ms/step - loss: 5.9877e-04\n",
      "Epoch 9/10\n",
      "15/15 [==============================] - 0s 20ms/step - loss: 6.0390e-04\n",
      "Epoch 10/10\n",
      "15/15 [==============================] - 0s 20ms/step - loss: 5.5488e-04\n",
      "Model: \"sequential\"\n",
      "_________________________________________________________________\n",
      "Layer (type)                 Output Shape              Param #   \n",
      "=================================================================\n",
      "simple_rnn (SimpleRNN)       (None, 92)                8648      \n",
      "_________________________________________________________________\n",
      "dense (Dense)                (None, 1)                 93        \n",
      "=================================================================\n",
      "Total params: 8,741\n",
      "Trainable params: 8,741\n",
      "Non-trainable params: 0\n",
      "_________________________________________________________________\n"
     ]
    }
   ],
   "source": [
    "\n",
    "\n",
    "RNN_model = Sequential()\n",
    "RNN_model.add(SimpleRNN(units = 92, input_shape = (X_train.shape[1], 1)))\n",
    "RNN_model.add(Dense(1))\n",
    "RNN_model.compile(optimizer = Adam(learning_rate=0.001), loss='mean_squared_error')\n",
    "\n",
    "\n",
    "history = RNN_model.fit(X_train, y_train,epochs=10,batch_size=64)\n",
    "\n",
    "\n",
    "RNN_model.summary()\n"
   ]
  },
  {
   "cell_type": "code",
   "execution_count": 13,
   "metadata": {},
   "outputs": [
    {
     "data": {
      "image/png": "[encoded data removed]",
      "text/plain": [
       "<Figure size 432x288 with 1 Axes>"
      ]
     },
     "metadata": {
      "needs_background": "light"
     },
     "output_type": "display_data"
    },
    {
     "name": "stdout",
     "output_type": "stream",
     "text": [
      "Mean Absolute Error:  0.07340729102380707\n",
      "Mean Squared Error:  0.007603914560402581\n"
     ]
    }
   ],
   "source": [
    "X_test = np.reshape(X_test, (X_test.shape[0], X_test.shape[1], 1))\n",
    "X_test.shape\n",
    "\n",
    "\n",
    "# predicting stock prices\n",
    "y_pred = RNN_model.predict(X_test)\n",
    "predicted_stock_price = (y_pred)\n",
    "# predicted_stock_price = sc.inverse_transform(y_pred)\n",
    "\n",
    "\n",
    "\n",
    "\n",
    "\n",
    "# plot\n",
    "# plt.plot(sc.inverse_transform(y_test.reshape(-1,1)), color = 'blue', label = 'Actual Price')\n",
    "plt.plot(y_test, color = 'blue', label = 'Actual Price')\n",
    "plt.plot(predicted_stock_price, color = 'red', label = 'Predicted Price')\n",
    "plt.title('Stock Prediction')\n",
    "plt.xlabel('Time')\n",
    "plt.ylabel('Price')\n",
    "plt.legend()\n",
    "plt.show()\n",
    "\n",
    "\n",
    "print('Mean Absolute Error: ', mean_absolute_error(y_test, predicted_stock_price))\n",
    "\n",
    "print('Mean Squared Error: ', mean_squared_error(y_test, predicted_stock_price))"
   ]
  },
  {
   "cell_type": "markdown",
   "metadata": {},
   "source": [
    "### Train and Test LSTM"
   ]
  },
  {
   "cell_type": "code",
   "execution_count": 14,
   "metadata": {},
   "outputs": [
    {
     "name": "stdout",
     "output_type": "stream",
     "text": [
      "Model: \"sequential_1\"\n",
      "_________________________________________________________________\n",
      "Layer (type)                 Output Shape              Param #   \n",
      "=================================================================\n",
      "lstm (LSTM)                  (None, 60, 92)            34592     \n",
      "_________________________________________________________________\n",
      "dropout (Dropout)            (None, 60, 92)            0         \n",
      "_________________________________________________________________\n",
      "lstm_1 (LSTM)                (None, 60, 72)            47520     \n",
      "_________________________________________________________________\n",
      "dropout_1 (Dropout)          (None, 60, 72)            0         \n",
      "_________________________________________________________________\n",
      "lstm_2 (LSTM)                (None, 60, 62)            33480     \n",
      "_________________________________________________________________\n",
      "dropout_2 (Dropout)          (None, 60, 62)            0         \n",
      "_________________________________________________________________\n",
      "lstm_3 (LSTM)                (None, 32)                12160     \n",
      "_________________________________________________________________\n",
      "dropout_3 (Dropout)          (None, 32)                0         \n",
      "_________________________________________________________________\n",
      "dense_1 (Dense)              (None, 1)                 33        \n",
      "=================================================================\n",
      "Total params: 127,785\n",
      "Trainable params: 127,785\n",
      "Non-trainable params: 0\n",
      "_________________________________________________________________\n"
     ]
    }
   ],
   "source": [
    "# Train and Test LSTM\n",
    "\n",
    "\n",
    "LSTM_Model = Sequential()\n",
    "\n",
    "LSTM_Model.add(LSTM(units = 92, return_sequences = True, input_shape = (X_train.shape[1], 1)))\n",
    "LSTM_Model.add(Dropout(0.3))\n",
    "\n",
    "LSTM_Model.add(LSTM(units = 72, return_sequences = True))\n",
    "LSTM_Model.add(Dropout(0.3))\n",
    "\n",
    "LSTM_Model.add(LSTM(units = 62, return_sequences = True))\n",
    "LSTM_Model.add(Dropout(0.2))\n",
    "\n",
    "LSTM_Model.add(LSTM(units = 32, return_sequences = False))\n",
    "LSTM_Model.add(Dropout(0.2))\n",
    "\n",
    "LSTM_Model.add(Dense(units = 1))\n",
    "LSTM_Model.compile(optimizer = Adam(learning_rate=0.001), loss = 'mean_squared_error')\n",
    "\n",
    "LSTM_Model.summary()"
   ]
  },
  {
   "cell_type": "code",
   "execution_count": 15,
   "metadata": {},
   "outputs": [
    {
     "name": "stdout",
     "output_type": "stream",
     "text": [
      "Epoch 1/10\n",
      "15/15 [==============================] - 3s 193ms/step - loss: 0.0246\n",
      "Epoch 2/10\n",
      "15/15 [==============================] - 3s 172ms/step - loss: 0.0053\n",
      "Epoch 3/10\n",
      "15/15 [==============================] - 3s 176ms/step - loss: 0.0030\n",
      "Epoch 4/10\n",
      "15/15 [==============================] - 3s 182ms/step - loss: 0.0021\n",
      "Epoch 5/10\n",
      "15/15 [==============================] - 3s 187ms/step - loss: 0.0021\n",
      "Epoch 6/10\n",
      "15/15 [==============================] - 3s 179ms/step - loss: 0.0021\n",
      "Epoch 7/10\n",
      "15/15 [==============================] - 3s 169ms/step - loss: 0.0021\n",
      "Epoch 8/10\n",
      "15/15 [==============================] - 3s 187ms/step - loss: 0.0020\n",
      "Epoch 9/10\n",
      "15/15 [==============================] - 3s 186ms/step - loss: 0.0019\n",
      "Epoch 10/10\n",
      "15/15 [==============================] - 3s 179ms/step - loss: 0.0016\n"
     ]
    },
    {
     "data": {
      "text/plain": [
       "<tensorflow.python.keras.callbacks.History at 0x18e8e2166d8>"
      ]
     },
     "execution_count": 15,
     "metadata": {},
     "output_type": "execute_result"
    }
   ],
   "source": [
    "LSTM_Model.fit(X_train, y_train, epochs = 10, batch_size = 64)\n"
   ]
  },
  {
   "cell_type": "code",
   "execution_count": 16,
   "metadata": {},
   "outputs": [
    {
     "data": {
      "image/png": "[encoded data removed]",
      "text/plain": [
       "<Figure size 432x288 with 1 Axes>"
      ]
     },
     "metadata": {
      "needs_background": "light"
     },
     "output_type": "display_data"
    },
    {
     "name": "stdout",
     "output_type": "stream",
     "text": [
      "Mean Absolute Error:  0.02208071405304128\n",
      "Mean Squared Error:  0.0008561655628294528\n"
     ]
    }
   ],
   "source": [
    "X_test = np.reshape(X_test, (X_test.shape[0], X_test.shape[1], 1))\n",
    "X_test.shape\n",
    "\n",
    "# predicting stock prices\n",
    "y_pred = LSTM_Model.predict(X_test)\n",
    "predicted_stock_price = (y_pred)\n",
    "# predicted_stock_price = sc.inverse_transform(y_pred)\n",
    "\n",
    "\n",
    "# plot\n",
    "# plt.plot(sc.inverse_transform(y_test.reshape(-1,1)), color = 'blue', label = 'Actual Price')\n",
    "plt.plot(y_test, color = 'blue', label = 'Actual Price')\n",
    "plt.plot(predicted_stock_price, color = 'red', label = 'Predicted Price')\n",
    "plt.title('Stock Prediction')\n",
    "plt.xlabel('Time')\n",
    "plt.ylabel('Price')\n",
    "plt.legend()\n",
    "plt.show()\n",
    "\n",
    "\n",
    "print('Mean Absolute Error: ', mean_absolute_error(y_test, predicted_stock_price))\n",
    "\n",
    "print('Mean Squared Error: ', mean_squared_error(y_test, predicted_stock_price))"
   ]
  },
  {
   "cell_type": "code",
   "execution_count": null,
   "metadata": {},
   "outputs": [],
   "source": []
  }
 ],
 "metadata": {
  "kernelspec": {
   "display_name": "Python 3",
   "language": "python",
   "name": "python3"
  },
  "language_info": {
   "codemirror_mode": {
    "name": "ipython",
    "version": 3
   },
   "file_extension": ".py",
   "mimetype": "text/x-python",
   "name": "python",
   "nbconvert_exporter": "python",
   "pygments_lexer": "ipython3",
   "version": "3.6.1"
  }
 },
 "nbformat": 4,
 "nbformat_minor": 4
}
